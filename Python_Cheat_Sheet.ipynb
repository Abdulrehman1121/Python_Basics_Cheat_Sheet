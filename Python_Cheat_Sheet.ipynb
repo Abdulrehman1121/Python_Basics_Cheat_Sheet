{
 "cells": [
  {
   "cell_type": "markdown",
   "id": "b8340c00",
   "metadata": {},
   "source": [
    "# 🐍 Python Basics Cheat Sheet\n",
    "All essential Python concepts with code examples."
   ]
  },
  {
   "cell_type": "markdown",
   "id": "006dcdff",
   "metadata": {},
   "source": [
    "### ✅ Syntax"
   ]
  },
  {
   "cell_type": "code",
   "execution_count": null,
   "id": "726309e2",
   "metadata": {},
   "outputs": [],
   "source": [
    "print(\"Hello world!\")  # Output: Hello world!\n",
    "print(2)               # Output: 2\n",
    "print(2.5)             # Output: 2.5"
   ]
  },
  {
   "cell_type": "markdown",
   "id": "a97127bc",
   "metadata": {},
   "source": [
    "### ✅ Variables"
   ]
  },
  {
   "cell_type": "code",
   "execution_count": null,
   "id": "c916b4e2",
   "metadata": {},
   "outputs": [],
   "source": [
    "text = \"Hello world 23\"\n",
    "num = 2"
   ]
  },
  {
   "cell_type": "markdown",
   "id": "d255d620",
   "metadata": {},
   "source": [
    "### ✅ Data Types"
   ]
  },
  {
   "cell_type": "code",
   "execution_count": null,
   "id": "6597b703",
   "metadata": {},
   "outputs": [],
   "source": [
    "string_data = \"Python\"\n",
    "integer_data = 10\n",
    "float_data = 3.14\n",
    "boolean_data = True\n",
    "list_data = [1, 2, 3]\n",
    "tuple_data = (4, 5, 6)\n",
    "dict_data = {\"name\": \"Alice\", \"age\": 25}\n",
    "set_data = {1, 2, 3}"
   ]
  },
  {
   "cell_type": "markdown",
   "id": "8075af59",
   "metadata": {},
   "source": [
    "### ✅ Operators"
   ]
  },
  {
   "cell_type": "code",
   "execution_count": null,
   "id": "bc9f369c",
   "metadata": {},
   "outputs": [],
   "source": [
    "# Arithmetic\n",
    "a, b = 10, 3\n",
    "print(a + b)\n",
    "print(a - b)\n",
    "print(a * b)\n",
    "print(a / b)\n",
    "print(a // b)\n",
    "print(a % b)\n",
    "print(a ** b)\n",
    "\n",
    "# Comparison\n",
    "print(a == b)\n",
    "print(a != b)\n",
    "print(a > b)\n",
    "print(a < b)\n",
    "print(a >= b)\n",
    "print(a <= b)\n",
    "\n",
    "# Assignment\n",
    "x = 5\n",
    "x += 2\n",
    "x -= 1\n",
    "x *= 3\n",
    "x /= 2\n",
    "x //= 2\n",
    "x %= 3\n",
    "x **= 2\n",
    "print(x)\n",
    "\n",
    "# Logical\n",
    "print(True and False)\n",
    "print(True or False)"
   ]
  },
  {
   "cell_type": "markdown",
   "id": "02e9836e",
   "metadata": {},
   "source": [
    "### ✅ Conditions"
   ]
  },
  {
   "cell_type": "code",
   "execution_count": null,
   "id": "15cd0cb9",
   "metadata": {},
   "outputs": [],
   "source": [
    "#if-else\n",
    "num = 5\n",
    "if num > 0:\n",
    "    print(\"Positive\")  # Runs if number is greater than 0\n",
    "else:\n",
    "    print(\"Negative or Zero\")  # Runs if number is 0 or negative\n",
    "\n",
    "#if-elif-else\n",
    "num = 0\n",
    "if num > 0:\n",
    "    print(\"Positive\")       # Runs if number > 0\n",
    "elif num == 0:\n",
    "    print(\"Zero\")           # Runs if number == 0\n",
    "else:\n",
    "    print(\"Negative\")       # Runs if number < 0\n"
   ]
  },
  {
   "cell_type": "markdown",
   "id": "31ef6fdd",
   "metadata": {},
   "source": [
    "### ✅ Input"
   ]
  },
  {
   "cell_type": "code",
   "execution_count": null,
   "id": "a3700d15",
   "metadata": {},
   "outputs": [],
   "source": [
    "# Ask the user to type their name and press Enter.\n",
    "# input() pauses the program and returns whatever the user types as a *string*.\n",
    "name = input(\"Enter your name: \")\n",
    "\n",
    "# Print a friendly greeting that includes the name entered above.\n",
    "print(\"Hello\", name)\n",
    "\n",
    "# Ask the user for their age.\n",
    "# Because input() returns a string, we wrap it in int() to convert that string to an integer.\n",
    "age = int(input(\"Enter your age: \"))\n",
    "\n",
    "# Finally, display the numeric age the user entered.\n",
    "print(age)\n"
   ]
  },
  {
   "cell_type": "markdown",
   "id": "6e050092",
   "metadata": {},
   "source": [
    "### ✅ Loops"
   ]
  },
  {
   "cell_type": "code",
   "execution_count": null,
   "id": "b6a35d9d",
   "metadata": {},
   "outputs": [],
   "source": [
    "# Example 1: For loop\n",
    "# Repeats the block 3 times (i = 0, 1, 2)\n",
    "for i in range(3):\n",
    "    print(i)\n",
    "\n",
    "# Output:\n",
    "#  0\n",
    "#  1\n",
    "#  2\n",
    "\n",
    "\n",
    "# Example 2: While loop\n",
    "# Repeats as long as count < 3\n",
    "count = 0\n",
    "while count < 3:\n",
    "    print(count)\n",
    "    count += 1\n",
    "\n",
    "# Output:\n",
    "# 0\n",
    "# 1\n",
    "# 2\n",
    "\n"
   ]
  },
  {
   "cell_type": "markdown",
   "id": "d2c38002",
   "metadata": {},
   "source": [
    "### ✅ Functions"
   ]
  },
  {
   "cell_type": "code",
   "execution_count": null,
   "id": "4a1fcb4f",
   "metadata": {},
   "outputs": [],
   "source": [
    "# ✅ Function without parameter and without return\n",
    "def greet():\n",
    "    print(\"Hello\")\n",
    "\n",
    "greet()  # Output: Hello\n",
    "\n",
    "\n",
    "# ✅ Function with parameter, without return\n",
    "def greet(name):\n",
    "    print(\"Hello\", name)\n",
    "\n",
    "greet(\"John\")  # Output: Hello John\n",
    "\n",
    "\n",
    "# ✅ Function with parameter and return (no f-string)\n",
    "def greet(name):\n",
    "    return \"Hello \" + name\n",
    "\n",
    "print(greet(\"John\"))  # Output: Hello John\n",
    "\n",
    "\n",
    "# ✅ Function with f-string\n",
    "def greet(name):\n",
    "    return f\"Hello {name}\"\n",
    "\n",
    "print(greet(\"John\"))  # Output: Hello John\n",
    "\n",
    "\n",
    "# ✅ Recursive function: factorial\n",
    "def factorial(n):\n",
    "    if n == 1:\n",
    "        return 1\n",
    "    return n * factorial(n - 1)\n",
    "\n",
    "print(factorial(5))  # Output: 120\n",
    "\n",
    "\n",
    "# ✅ Loop with continue and break\n",
    "for i in range(5):\n",
    "    if i == 2:\n",
    "        continue  # Skips 2\n",
    "    if i == 4:\n",
    "        break     # Stops loop before 4\n",
    "    print(i)       # Output: 0, 1, 3\n",
    "\n",
    "\n",
    "# ✅ Empty function using pass (placeholder)\n",
    "def nothing():\n",
    "    pass\n",
    "\n",
    "\n",
    "# ✅ Function with return value\n",
    "def double(x):\n",
    "    return x * 2\n",
    "\n",
    "print(double(4))  # Output: 8\n",
    "\n",
    "\n",
    "# ✅ Generator function using yield\n",
    "def generator():\n",
    "    yield 1\n",
    "    yield 2\n",
    "\n",
    "for val in generator():\n",
    "    print(val)  # Output: 1, 2\n",
    "\n",
    "\n",
    "# ✅ Identity and membership\n",
    "print(1 is 1)           # True\n",
    "print(2 in [1, 2, 3])   # True\n"
   ]
  },
  {
   "cell_type": "markdown",
   "id": "786bd183",
   "metadata": {},
   "source": [
    "### ✅ Recursive Functions"
   ]
  },
  {
   "cell_type": "code",
   "execution_count": null,
   "id": "875b832d",
   "metadata": {},
   "outputs": [],
   "source": [
    "# ✅ Example 1: Recursive function to calculate factorial\n",
    "\n",
    "def factorial(n):\n",
    "    if n == 1:                  # Base case: when n is 1, stop recursion\n",
    "        return 1\n",
    "    return n * factorial(n - 1) # Recursive case: call the function again with n - 1\n",
    "\n",
    "print(factorial(5))  # Output: 120\n",
    "\n",
    "\n",
    "# ✅ Example 2: Recursive function to print countdown\n",
    "\n",
    "def countdown(n):\n",
    "    if n == 0:\n",
    "        print(\"Blast off!\")\n",
    "    else:\n",
    "        print(n)\n",
    "        countdown(n - 1)\n",
    "\n",
    "countdown(5)\n",
    "# Output:\n",
    "# 5\n",
    "# 4\n",
    "# 3\n",
    "# 2\n",
    "# 1\n",
    "# Blast off!\n",
    "\n",
    "\n",
    "# ✅ Example 3: Recursive function to calculate Fibonacci numbers\n",
    "\n",
    "def fibonacci(n):\n",
    "    if n <= 1:\n",
    "        return n\n",
    "    return fibonacci(n - 1) + fibonacci(n - 2)\n",
    "\n",
    "print(fibonacci(6))  # Output: 8\n"
   ]
  },
  {
   "cell_type": "markdown",
   "id": "ef0b4f64",
   "metadata": {},
   "source": [
    "### ✅ Nested Structures"
   ]
  },
  {
   "cell_type": "code",
   "execution_count": null,
   "id": "70f02f67",
   "metadata": {},
   "outputs": [],
   "source": [
    "# Nested Loops\n",
    "for i in range(2):\n",
    "    for j in range(2):\n",
    "        print(i, j)\n",
    "\n",
    "# Nested Conditions\n",
    "x = 5\n",
    "if x > 0:\n",
    "    if x < 10:\n",
    "        print(\"x is between 1 and 9\")"
   ]
  },
  {
   "cell_type": "markdown",
   "id": "95ac2393",
   "metadata": {},
   "source": [
    "### ✅ Exceptions"
   ]
  },
  {
   "cell_type": "code",
   "execution_count": null,
   "id": "c1cea226",
   "metadata": {},
   "outputs": [],
   "source": [
    "try:\n",
    "    age = int(\"abc\")\n",
    "except ValueError:\n",
    "    print(\"Invalid value\")\n",
    "\n",
    "try:\n",
    "    print(abc)\n",
    "except NameError:\n",
    "    print(\"Variable not defined\")"
   ]
  },
  {
   "cell_type": "markdown",
   "id": "ff1d0ffb",
   "metadata": {},
   "source": [
    "### ✅ File Handling"
   ]
  },
  {
   "cell_type": "code",
   "execution_count": null,
   "id": "caa3c6f5",
   "metadata": {},
   "outputs": [],
   "source": [
    "# Writing\n",
    "with open(\"example.txt\", \"w\") as f:\n",
    "    f.write(\"Hello world!\")\n",
    "\n",
    "# Reading\n",
    "with open(\"example.txt\", \"r\") as f:\n",
    "    content = f.read()\n",
    "    print(content)"
   ]
  },
  {
   "cell_type": "markdown",
   "id": "19c69eca",
   "metadata": {},
   "source": [
    "### ✅ Type Casting"
   ]
  },
  {
   "cell_type": "code",
   "execution_count": null,
   "id": "21c9dcaa",
   "metadata": {},
   "outputs": [],
   "source": [
    "a = int(\"5\")\n",
    "b = float(\"3.14\")\n",
    "c = str(100)\n",
    "print(a, b, c)"
   ]
  },
  {
   "cell_type": "markdown",
   "id": "ec3ac0f8",
   "metadata": {},
   "source": [
    "### ✅ List Comprehension"
   ]
  },
  {
   "cell_type": "code",
   "execution_count": null,
   "id": "3aad1fe8",
   "metadata": {},
   "outputs": [],
   "source": [
    "squares = [x**2 for x in range(5)]\n",
    "print(squares)"
   ]
  },
  {
   "cell_type": "markdown",
   "id": "8e3b0dff",
   "metadata": {},
   "source": [
    "### ✅ String Methods"
   ]
  },
  {
   "cell_type": "code",
   "execution_count": null,
   "id": "3252f80a",
   "metadata": {},
   "outputs": [],
   "source": [
    "text = \" Hello World! \"\n",
    "print(text.strip())\n",
    "print(text.lower())\n",
    "print(text.upper())\n",
    "print(text.replace(\"H\", \"J\"))"
   ]
  },
  {
   "cell_type": "markdown",
   "id": "83ff66c0",
   "metadata": {},
   "source": [
    "### ✅ Lambda Function"
   ]
  },
  {
   "cell_type": "code",
   "execution_count": null,
   "id": "9788b182",
   "metadata": {},
   "outputs": [],
   "source": [
    "add = lambda x, y: x + y\n",
    "print(add(2, 3))"
   ]
  },
  {
   "cell_type": "markdown",
   "id": "f5a1f93f",
   "metadata": {},
   "source": [
    "### ✅ *args and **kwargs"
   ]
  },
  {
   "cell_type": "code",
   "execution_count": null,
   "id": "5ad308cd",
   "metadata": {},
   "outputs": [],
   "source": [
    "# ✅ Example 1: Using *args (positional arguments)\n",
    "def show_args(*args):\n",
    "    print(\"Args:\", args)\n",
    "\n",
    "show_args(1, 2, 3)\n",
    "# Output: Args: (1, 2, 3)\n",
    "# Explanation: *args collects multiple positional values into a tuple\n",
    "\n",
    "\n",
    "# ✅ Example 2: Using **kwargs (keyword arguments)\n",
    "def show_kwargs(**kwargs):\n",
    "    print(\"Kwargs:\", kwargs)\n",
    "\n",
    "show_kwargs(name=\"Alice\", age=30)\n",
    "# Output: Kwargs: {'name': 'Alice', 'age': 30}\n",
    "# Explanation: **kwargs collects multiple named arguments into a dictionary\n",
    "\n",
    "\n",
    "# ✅ Example 3: Using both *args and **kwargs\n",
    "def show_all(*args, **kwargs):\n",
    "    print(\"Args:\", args)\n",
    "    print(\"Kwargs:\", kwargs)\n",
    "\n",
    "show_all(1, 2, name=\"John\", age=25)\n",
    "# Output:\n",
    "# Args: (1, 2)\n",
    "# Kwargs: {'name': 'John', 'age': 25}\n"
   ]
  },
  {
   "cell_type": "markdown",
   "id": "2b8699cc",
   "metadata": {},
   "source": [
    "### ✅ Raise"
   ]
  },
  {
   "cell_type": "code",
   "execution_count": null,
   "id": "3704e74d",
   "metadata": {},
   "outputs": [],
   "source": [
    "age = -1\n",
    "if age < 0:\n",
    "    raise ValueError(\"Age can't be negative!\")"
   ]
  },
  {
   "cell_type": "markdown",
   "id": "8e34b964",
   "metadata": {},
   "source": [
    "### ✅ Escape Characters"
   ]
  },
  {
   "cell_type": "code",
   "execution_count": null,
   "id": "8d5dbc7b",
   "metadata": {},
   "outputs": [],
   "source": [
    "print(\"Line1\\nLine2\")   \n",
    "print(\"Hello\\tWorld\")   \n",
    "print(\"Backslash \\\\\")"
   ]
  },
  {
   "cell_type": "markdown",
   "id": "597cc2e9",
   "metadata": {},
   "source": [
    "### ✅ Built-in Functions"
   ]
  },
  {
   "cell_type": "code",
   "execution_count": null,
   "id": "5226867d",
   "metadata": {},
   "outputs": [],
   "source": [
    "nums = [1, 2, 3, 4]\n",
    "\n",
    "# map\n",
    "print(list(map(lambda x: x*2, nums)))\n",
    "\n",
    "# filter\n",
    "print(list(filter(lambda x: x % 2 == 0, nums)))\n",
    "\n",
    "# zip\n",
    "names = [\"Alice\", \"Bob\"]\n",
    "ages = [25, 30]\n",
    "print(list(zip(names, ages)))"
   ]
  },
  {
   "cell_type": "markdown",
   "id": "89ec8a6e",
   "metadata": {},
   "source": [
    "### ✅ Random Module\n"
   ]
  },
  {
   "cell_type": "code",
   "execution_count": null,
   "id": "421c8483",
   "metadata": {},
   "outputs": [],
   "source": [
    "import random\n",
    "\n",
    "# ✅ Returns a random integer between a and b (inclusive)\n",
    "print(random.randint(1, 10))  # Example output: 7\n",
    "\n",
    "# ✅ Returns a random float between 0.0 and 1.0\n",
    "print(random.random())  # Example output: 0.6745\n",
    "\n",
    "# ✅ Returns a random float between a and b\n",
    "print(random.uniform(1.5, 5.5))  # Example: 3.21\n",
    "\n",
    "# ✅ Randomly selects an element from a sequence (like list, tuple, string)\n",
    "items = ['apple', 'banana', 'cherry']\n",
    "print(random.choice(items))  # Example: banana\n",
    "\n",
    "# ✅ Returns a list with k random elements from the given list\n",
    "print(random.sample(items, 2))  # Example: ['banana', 'apple']\n",
    "\n",
    "# ✅ Shuffles the original list (changes the order randomly)\n",
    "random.shuffle(items)\n",
    "print(items)  # Example: ['cherry', 'apple', 'banana']\n",
    "\n",
    "# ✅ Chooses multiple random elements with replacement\n",
    "print(random.choices(items, k=3))  # Example: ['apple', 'apple', 'banana']\n",
    "\n",
    "# ✅ Sets the seed (for reproducible random results)\n",
    "random.seed(1)\n",
    "print(random.randint(1, 10))  # Always gives same number if seed is same\n"
   ]
  }
 ],
 "metadata": {
  "language_info": {
   "name": "python"
  }
 },
 "nbformat": 4,
 "nbformat_minor": 5
}
